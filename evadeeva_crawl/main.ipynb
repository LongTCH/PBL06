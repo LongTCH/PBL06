{
 "cells": [
  {
   "cell_type": "code",
   "execution_count": 1,
   "metadata": {},
   "outputs": [],
   "source": [
    "import pymongo\n",
    "import json\n",
    "import requests\n",
    "from bs4 import BeautifulSoup\n",
    "from pprint import pprint\n",
    "from tqdm import tqdm\n",
    "from bson import ObjectId"
   ]
  },
  {
   "cell_type": "code",
   "execution_count": 2,
   "metadata": {},
   "outputs": [],
   "source": [
    "class Product:\n",
    "    def __init__(self, title, images, options, variants, available, description, sku, publishedDate, groupId, categoryId, createdDate, lastModifiedDate):\n",
    "        self.title = title\n",
    "        self.images = images\n",
    "        self.options = options\n",
    "        self.variants = variants\n",
    "        self.available = available\n",
    "        self.description = description\n",
    "        self.sku = sku\n",
    "        self.publishedDate = publishedDate\n",
    "        self.groupId = groupId\n",
    "        self.categoryId = categoryId\n",
    "        self.createdDate = createdDate\n",
    "        self.lastModifiedDate = lastModifiedDate\n",
    "\n",
    "class ProductVariant:\n",
    "    def __init__(self, name, price, compareAtPrice, available, quantity, options):\n",
    "        self._id = ObjectId()\n",
    "        self.name = name\n",
    "        self.price = price\n",
    "        self.compareAtPrice = compareAtPrice\n",
    "        self.available = available\n",
    "        self.quantity = quantity\n",
    "        self.options = options\n",
    "\n",
    "\n",
    "class Image:\n",
    "    def __init__(self, url, position):\n",
    "        self.url = url\n",
    "        self.position = position\n",
    "\n",
    "class Option:\n",
    "    def __init__(self, name, values, position):\n",
    "        self.name = name\n",
    "        self.values = values\n",
    "        self.position = position\n",
    "\n",
    "class Group:\n",
    "    def __init__(self, name):\n",
    "        self.name = name\n",
    "        \n",
    "class Category:\n",
    "    def __init__(self, name, groupId):\n",
    "        self.name = name\n",
    "        self.groupId = groupId\n"
   ]
  },
  {
   "cell_type": "code",
   "execution_count": 3,
   "metadata": {},
   "outputs": [],
   "source": [
    "import pymongo\n",
    "\n",
    "myclient = pymongo.MongoClient(\"mongodb://localhost:27017/\")\n",
    "\n",
    "mydb = myclient[\"clothes\"]"
   ]
  },
  {
   "cell_type": "code",
   "execution_count": 4,
   "metadata": {},
   "outputs": [],
   "source": [
    "col_products = mydb[\"products\"]\n",
    "col_groups = mydb[\"groups\"]\n",
    "col_categories = mydb[\"categories\"]"
   ]
  },
  {
   "cell_type": "code",
   "execution_count": 5,
   "metadata": {},
   "outputs": [],
   "source": [
    "server = 'https://evadeeva.com.vn'"
   ]
  },
  {
   "cell_type": "code",
   "execution_count": 6,
   "metadata": {},
   "outputs": [],
   "source": [
    "response = requests.get(\"https://evadeeva.com.vn/collections/san-pham\")\n",
    "soup = BeautifulSoup(response.content, \"html.parser\")"
   ]
  },
  {
   "cell_type": "code",
   "execution_count": 7,
   "metadata": {},
   "outputs": [
    {
     "data": {
      "text/plain": [
       "[<ul -=\"\" class=\"menuCollection\" san-pham=\"\">\n",
       " <li><a href=\"/collections/dam\">Đầm </a></li>\n",
       " <li><a href=\"/collections/ao\">Áo </a></li>\n",
       " <li><a href=\"/collections/chan-vay\">Chân váy </a></li>\n",
       " <li><a href=\"/collections/quan\">Quần </a></li>\n",
       " <li><a href=\"/collections/jumpsuit\">Jumpsuit </a></li>\n",
       " <li><a href=\"/collections/homewear\">Homewear </a></li>\n",
       " <li><a href=\"/collections/ao-khoac\">Áo khoác </a></li>\n",
       " <li><a href=\"/collections/phu-kien\">Phụ kiện </a></li>\n",
       " </ul>]"
      ]
     },
     "execution_count": 7,
     "metadata": {},
     "output_type": "execute_result"
    }
   ],
   "source": [
    "menuCollection = soup.find_all(\"ul\", class_=\"menuCollection\")\n",
    "menuCollection"
   ]
  },
  {
   "cell_type": "code",
   "execution_count": 8,
   "metadata": {},
   "outputs": [],
   "source": [
    "def checkCategoryExist(menuCollection):\n",
    "    categories = menuCollection.find_all(\"li\")\n",
    "    for category in categories:\n",
    "        category_name = category.find(\"a\").text.strip()\n",
    "        if category_name not in [\"Đầm\", \"Áo\", \"Chân váy\", \"Quần\", \"Jumpsuit\", \"Homewear\", \"Áo khoác\", \"Phụ kiện\"]:\n",
    "            return True\n",
    "    return False"
   ]
  },
  {
   "cell_type": "code",
   "execution_count": 9,
   "metadata": {},
   "outputs": [],
   "source": [
    "def to_dict(obj):\n",
    "    if isinstance(obj, list):\n",
    "        return [to_dict(item) for item in obj]\n",
    "    elif hasattr(obj, '__dict__'):\n",
    "        return {key: to_dict(value) for key, value in vars(obj).items()}\n",
    "    else:\n",
    "        return obj"
   ]
  },
  {
   "cell_type": "code",
   "execution_count": 10,
   "metadata": {},
   "outputs": [],
   "source": [
    "def processProduct(c_url, groupId, categoryId):\n",
    "    p_response = requests.get(f\"{server}{c_url}/products.json?page=1&limit=500\")\n",
    "    p_response = p_response.json()\n",
    "    products = p_response['products']\n",
    "    for product in products:\n",
    "        title = product['title']\n",
    "        description = product['body_html']\n",
    "        createdDate = product['created_at']\n",
    "        lastModifiedDate = product['updated_at']\n",
    "        available = product['available']\n",
    "        publishedDate = product['published_at']\n",
    "        images = []\n",
    "        for image in product['images']:\n",
    "            images.append(Image(image['src'], image['position']))\n",
    "        options = []\n",
    "        for option in product['options']:\n",
    "            options.append(Option(option['name'], option['values'], option['position']))\n",
    "        variants = []\n",
    "        for variant in product['variants']:\n",
    "            name = variant['title']\n",
    "            price = variant['price']\n",
    "            compareAtPrice = variant['compare_at_price']\n",
    "            available = variant['available']\n",
    "            quantity = variant['inventory_quantity']\n",
    "            i = 1\n",
    "            v_options = {}\n",
    "            while variant.get('option' + str(i)):\n",
    "                v_options[str(i)] = variant['option' + str(i)]\n",
    "                i += 1\n",
    "            variants.append(ProductVariant(name, price, compareAtPrice, available, quantity, v_options))\n",
    "        sku = product['variants'][0]['sku']\n",
    "        product = Product(title, images, options, variants, available, description, sku, publishedDate, groupId, categoryId, createdDate, lastModifiedDate)\n",
    "        col_products.insert_one(to_dict(product))"
   ]
  },
  {
   "cell_type": "code",
   "execution_count": 11,
   "metadata": {},
   "outputs": [
    {
     "name": "stderr",
     "output_type": "stream",
     "text": [
      "Processing groups:   0%|          | 0/8 [00:00<?, ?it/s]"
     ]
    },
    {
     "name": "stderr",
     "output_type": "stream",
     "text": [
      "Processing groups: 100%|██████████| 8/8 [00:27<00:00,  3.46s/it]\n"
     ]
    }
   ],
   "source": [
    "groups = menuCollection[0].find_all(\"li\")\n",
    "for group in tqdm(groups, desc='Processing groups'):\n",
    "    groupName = group.find(\"a\").text.strip()\n",
    "    groupLink = group.find(\"a\")[\"href\"]\n",
    "    groupEntity = Group(name=groupName)\n",
    "    groupEntity = col_groups.insert_one(groupEntity.__dict__)\n",
    "    g_response = requests.get(server + groupLink)\n",
    "    g_soup = BeautifulSoup(g_response.content, \"html.parser\")\n",
    "    g_menuCollection = g_soup.find_all(\"ul\", class_=\"menuCollection\")\n",
    "    if checkCategoryExist(g_menuCollection[0]):\n",
    "        categories = g_menuCollection[0].find_all(\"li\")\n",
    "        for category in categories:\n",
    "            c_name = category.find(\"a\").text.strip()\n",
    "            if (c_name.lower().startswith(\"tất cả\")):\n",
    "                continue\n",
    "            c_link = category.find(\"a\")[\"href\"]\n",
    "            c_groupId = groupEntity.inserted_id\n",
    "            categoryEntity = Category(name=c_name, groupId=c_groupId)\n",
    "            categoryEntity = col_categories.insert_one(categoryEntity.__dict__)\n",
    "            processProduct(c_link, c_groupId, categoryEntity.inserted_id)\n",
    "    else:\n",
    "        c_groupId = groupEntity.inserted_id\n",
    "        processProduct(groupLink, c_groupId, None)\n",
    "        \n",
    "    "
   ]
  },
  {
   "cell_type": "code",
   "execution_count": null,
   "metadata": {},
   "outputs": [],
   "source": []
  }
 ],
 "metadata": {
  "kernelspec": {
   "display_name": "law",
   "language": "python",
   "name": "python3"
  },
  "language_info": {
   "codemirror_mode": {
    "name": "ipython",
    "version": 3
   },
   "file_extension": ".py",
   "mimetype": "text/x-python",
   "name": "python",
   "nbconvert_exporter": "python",
   "pygments_lexer": "ipython3",
   "version": "3.10.14"
  }
 },
 "nbformat": 4,
 "nbformat_minor": 2
}
