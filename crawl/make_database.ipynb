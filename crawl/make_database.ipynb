{
 "cells": [
  {
   "cell_type": "code",
   "execution_count": 1,
   "metadata": {},
   "outputs": [],
   "source": [
    "import pymongo\n",
    "import json\n",
    "import requests\n",
    "from bs4 import BeautifulSoup\n",
    "from pprint import pprint\n",
    "from tqdm import tqdm\n",
    "from bson import ObjectId"
   ]
  },
  {
   "cell_type": "code",
   "execution_count": 2,
   "metadata": {},
   "outputs": [],
   "source": [
    "class Product:\n",
    "    def __init__(self, title, images, options, variants, available, description, sku, publishedDate, groupId, categoryId, createdDate, lastModifiedDate):\n",
    "        self._id = ObjectId()\n",
    "        self.title = title\n",
    "        self.images = images\n",
    "        self.options = options\n",
    "        self.variants = variants\n",
    "        self.available = available\n",
    "        self.description = description\n",
    "        self.sku = sku\n",
    "        self.publishedDate = publishedDate\n",
    "        self.groupId = groupId.__str__()\n",
    "        self.categoryId = categoryId.__str__()\n",
    "        self.createdDate = createdDate\n",
    "        self.lastModifiedDate = lastModifiedDate\n",
    "\n",
    "class ProductVariant:\n",
    "    def __init__(self, name, price, compareAtPrice, available, quantity, options):\n",
    "        self._id = ObjectId()\n",
    "        self.name = name\n",
    "        self.price = int(price)\n",
    "        self.compareAtPrice = int(compareAtPrice)\n",
    "        self.available = available\n",
    "        self.quantity = quantity\n",
    "        self.options = options\n",
    "\n",
    "class Image:\n",
    "    def __init__(self, url, position):\n",
    "        self.url = url\n",
    "        self.position = position\n",
    "\n",
    "class Option:\n",
    "    def __init__(self, name, values, position):\n",
    "        self.name = name\n",
    "        self.values = values\n",
    "        self.position = position\n",
    "\n",
    "class Group:\n",
    "    def __init__(self, name):\n",
    "        self._id = ObjectId()\n",
    "        self.name = name\n",
    "        \n",
    "class Category:\n",
    "    def __init__(self, name, groupId):\n",
    "        self._id = ObjectId()\n",
    "        self.name = name\n",
    "        self.groupId = groupId.__str__()\n"
   ]
  },
  {
   "cell_type": "code",
   "execution_count": 3,
   "metadata": {},
   "outputs": [],
   "source": [
    "import pymongo\n",
    "\n",
    "myclient = pymongo.MongoClient(\"mongodb://localhost:27017/\")\n",
    "\n",
    "mydb = myclient[\"clothes\"]"
   ]
  },
  {
   "cell_type": "code",
   "execution_count": 4,
   "metadata": {},
   "outputs": [],
   "source": [
    "col_products = mydb[\"products\"]\n",
    "col_groups = mydb[\"groups\"]\n",
    "col_categories = mydb[\"categories\"]"
   ]
  },
  {
   "cell_type": "code",
   "execution_count": 5,
   "metadata": {},
   "outputs": [],
   "source": [
    "groups = {\n",
    "    \"ao\": Group(\"Áo\"),\n",
    "    \"quan\": Group(\"Quần\"),\n",
    "    \"dam\": Group(\"Đầm\"),\n",
    "    \"chan_vay\": Group(\"Chân váy\"),\n",
    "}\n",
    "\n",
    "categories = {\n",
    "    \"ao_2_day\": Category(\"Áo 2 dây\", groups[\"ao\"]._id),\n",
    "    \"ao_ba_lo\": Category(\"Áo ba lỗ\", groups[\"ao\"]._id),\n",
    "    \"ao_da\": Category(\"Áo da\", groups[\"ao\"]._id),\n",
    "    \"ao_dai\": Category(\"Áo dài\", groups[\"ao\"]._id),\n",
    "    \"ao_khoac_the_thao\": Category(\"Áo khoác thể thao\", groups[\"ao\"]._id),\n",
    "    \"ao_len\": Category(\"Áo len\", groups[\"ao\"]._id),\n",
    "    \"ao_mangto\": Category(\"Áo măngto\", groups[\"ao\"]._id),\n",
    "    \"ao_so_mi\": Category(\"Áo sơ mi\", groups[\"ao\"]._id),\n",
    "    \"ao_thun\": Category(\"Áo thun\", groups[\"ao\"]._id),\n",
    "    \"ao_tre_vai\": Category(\"Áo trễ vai\", groups[\"ao\"]._id),\n",
    "    \"ao_vest\": Category(\"Áo vest\", groups[\"ao\"]._id),\n",
    "    \"do_ngu_do_mac_nha\": Category(\"Đồ ngủ đồ mặc nhà\", groups[\"ao\"]._id),\n",
    "    \"chan_vay_dai\": Category(\"Chân váy dài\", groups[\"chan_vay\"]._id),\n",
    "    \"chan_vay_ngan\": Category(\"Chân váy ngắn\", groups[\"chan_vay\"]._id),\n",
    "    \"dam_maxi\": Category(\"Đầm maxi\", groups[\"dam\"]._id),\n",
    "    \"dam_om\": Category(\"Đầm ôm\", groups[\"dam\"]._id),\n",
    "    \"quan_dai\": Category(\"Quần dài\", groups[\"quan\"]._id),\n",
    "    \"quan_jean\": Category(\"Quần jean\", groups[\"quan\"]._id),\n",
    "    \"quan_short\": Category(\"Quần short\", groups[\"quan\"]._id),\n",
    "}"
   ]
  },
  {
   "cell_type": "code",
   "execution_count": 6,
   "metadata": {},
   "outputs": [],
   "source": [
    "for group in groups.values():\n",
    "    col_groups.insert_one(group.__dict__)\n",
    "\n",
    "for category in categories.values():\n",
    "    col_categories.insert_one(category.__dict__)"
   ]
  },
  {
   "cell_type": "code",
   "execution_count": 7,
   "metadata": {},
   "outputs": [],
   "source": [
    "def to_dict(obj):\n",
    "    if isinstance(obj, list):\n",
    "        return [to_dict(item) for item in obj]\n",
    "    elif hasattr(obj, '__dict__'):\n",
    "        return {key: to_dict(value) for key, value in vars(obj).items()}\n",
    "    else:\n",
    "        return obj\n",
    "    \n",
    "def processProduct(urls, groupId, categoryId):\n",
    "    for url in urls:\n",
    "        p_response = requests.get(f'{url}?page=1&limit=500')\n",
    "        p_response = p_response.json()\n",
    "        products = p_response['products']\n",
    "        for product in tqdm(products):\n",
    "            title = product['title']\n",
    "            description = product['body_html']\n",
    "            createdDate = product['created_at']\n",
    "            lastModifiedDate = product['updated_at']\n",
    "            if 'available' in product:\n",
    "                available = product['available'] \n",
    "            else:\n",
    "                available = True\n",
    "            publishedDate = product['published_at']\n",
    "            images = []\n",
    "            for image in product['images']:\n",
    "                images.append(Image(image['src'], image['position']))\n",
    "            options = []\n",
    "            for option in product['options']:\n",
    "                options.append(Option(option['name'], option['values'], option['position']))\n",
    "            variants = []\n",
    "            for variant in product['variants']:\n",
    "                name = variant['title']\n",
    "                price = variant['price']\n",
    "                compareAtPrice = variant['compare_at_price']\n",
    "                available = variant['available']\n",
    "                if 'inventory_quantity' in variant:\n",
    "                    quantity = variant['inventory_quantity']\n",
    "                else:\n",
    "                    quantity = 10\n",
    "                i = 1\n",
    "                v_options = {}\n",
    "                while variant.get('option' + str(i)):\n",
    "                    v_options[str(i)] = variant['option' + str(i)]\n",
    "                    i += 1\n",
    "                variants.append(ProductVariant(name, price, compareAtPrice, available, quantity, v_options))\n",
    "            sku = product['variants'][0]['sku']\n",
    "            product = Product(title, images, options, variants, available, description, sku, publishedDate, groupId, categoryId, createdDate, lastModifiedDate)\n",
    "            col_products.insert_one(to_dict(product))"
   ]
  },
  {
   "cell_type": "markdown",
   "metadata": {},
   "source": [
    "# Ao 2 day"
   ]
  },
  {
   "cell_type": "code",
   "execution_count": 8,
   "metadata": {},
   "outputs": [
    {
     "name": "stderr",
     "output_type": "stream",
     "text": [
      "100%|██████████| 10/10 [00:00<00:00, 251.11it/s]\n",
      "100%|██████████| 2/2 [00:00<00:00, 662.82it/s]\n",
      "100%|██████████| 12/12 [00:00<00:00, 1033.67it/s]\n"
     ]
    }
   ],
   "source": [
    "urls = [\n",
    "    \"https://www.pantio.vn/collections/ao-2-day/products.json\",\n",
    "    \"https://callia.vn/collections/ao-hai-day/products.json\",\n",
    "    \"https://maybi.com/collections/ao-hai-day/products.json\"\n",
    "]\n",
    "processProduct(urls, groups[\"ao\"]._id, categories[\"ao_2_day\"]._id)"
   ]
  },
  {
   "cell_type": "markdown",
   "metadata": {},
   "source": [
    "# Ao ba lo"
   ]
  },
  {
   "cell_type": "code",
   "execution_count": 9,
   "metadata": {},
   "outputs": [
    {
     "name": "stderr",
     "output_type": "stream",
     "text": [
      "100%|██████████| 3/3 [00:00<00:00, 726.50it/s]\n",
      "100%|██████████| 24/24 [00:00<00:00, 963.31it/s]\n",
      "100%|██████████| 50/50 [00:00<00:00, 877.86it/s]\n"
     ]
    }
   ],
   "source": [
    "urls = [\n",
    "    \"https://ash.vn/collections/ao-ba-l%E1%BB%97-bra-n%E1%BB%AF/products.json\",\n",
    "    \"https://salehub.com.vn/collections/ao-ba-lo-nu/products.json\",\n",
    "    \"https://www.maisononline.vn/collections/ao-ba-lo-nu/products.json\"\n",
    "]\n",
    "processProduct(urls, groups[\"ao\"]._id, categories[\"ao_ba_lo\"]._id)"
   ]
  },
  {
   "cell_type": "markdown",
   "metadata": {},
   "source": [
    "# Ao da"
   ]
  },
  {
   "cell_type": "code",
   "execution_count": 10,
   "metadata": {},
   "outputs": [
    {
     "name": "stderr",
     "output_type": "stream",
     "text": [
      "100%|██████████| 32/32 [00:00<00:00, 359.02it/s]\n",
      "100%|██████████| 6/6 [00:00<00:00, 608.47it/s]\n",
      "100%|██████████| 17/17 [00:00<00:00, 886.39it/s]\n",
      "100%|██████████| 31/31 [00:00<00:00, 789.10it/s]\n"
     ]
    }
   ],
   "source": [
    "urls = [\n",
    "    \"https://lamerfashion.com/collections/ao-khoac-da/products.json\",\n",
    "    \"https://davinet.vn/collections/ao-khoac-da-nu/products.json\",\n",
    "    \"https://shop.harley-alnaboodah.vn/collections/ao-khoac-da-nu/products.json\",\n",
    "    \"https://dragonmark.vn/collections/ao-da-nu/products.json\",\n",
    "    \n",
    "]\n",
    "processProduct(urls, groups[\"ao\"]._id, categories[\"ao_da\"]._id)"
   ]
  },
  {
   "cell_type": "markdown",
   "metadata": {},
   "source": [
    "# Ao dai"
   ]
  },
  {
   "cell_type": "code",
   "execution_count": 11,
   "metadata": {},
   "outputs": [
    {
     "name": "stderr",
     "output_type": "stream",
     "text": [
      "100%|██████████| 50/50 [00:00<00:00, 1044.97it/s]\n",
      "100%|██████████| 50/50 [00:00<00:00, 1140.74it/s]\n",
      "100%|██████████| 34/34 [00:00<00:00, 1046.97it/s]\n",
      "100%|██████████| 29/29 [00:00<00:00, 832.43it/s]\n",
      "100%|██████████| 50/50 [00:00<00:00, 1088.30it/s]\n",
      "100%|██████████| 50/50 [00:00<00:00, 950.45it/s]\n",
      "100%|██████████| 17/17 [00:00<00:00, 813.99it/s]\n"
     ]
    }
   ],
   "source": [
    "urls = [\n",
    "    \"https://econice.vn/collections/ao-dai/products.json\",\n",
    "    \"https://vania.com.vn/collections/ao-dai/products.json\",\n",
    "    \"https://nemshop.vn/collections/ao-dai/products.json\",\n",
    "    \"https://www.pantio.vn/collections/ao-dai/products.json\",\n",
    "    \"https://ceilio.vn/collections/ao-dai/products.json\",\n",
    "    \"https://sumirestore.com/collections/ao-dai/products.json\",\n",
    "    \"https://hongvic.vn/collections/ao-dai/products.json\"\n",
    "    \n",
    "]\n",
    "processProduct(urls, groups[\"ao\"]._id, categories[\"ao_dai\"]._id)"
   ]
  },
  {
   "cell_type": "markdown",
   "metadata": {},
   "source": [
    "# Ao khoac the thao"
   ]
  },
  {
   "cell_type": "code",
   "execution_count": 12,
   "metadata": {},
   "outputs": [
    {
     "name": "stderr",
     "output_type": "stream",
     "text": [
      "100%|██████████| 19/19 [00:00<00:00, 898.22it/s]\n",
      "100%|██████████| 9/9 [00:00<00:00, 911.19it/s]\n"
     ]
    }
   ],
   "source": [
    "urls = [\n",
    "    \"https://donglucsport.vn/collections/ao-khoac-nu/products.json\",\n",
    "    \"https://fitme.vn/collections/ao-khoac-the-thao-nu/products.json\",\n",
    "    \n",
    "]\n",
    "processProduct(urls, groups[\"ao\"]._id, categories[\"ao_khoac_the_thao\"]._id)"
   ]
  },
  {
   "cell_type": "markdown",
   "metadata": {},
   "source": [
    "# Ao len"
   ]
  },
  {
   "cell_type": "code",
   "execution_count": 13,
   "metadata": {},
   "outputs": [
    {
     "name": "stderr",
     "output_type": "stream",
     "text": [
      "100%|██████████| 50/50 [00:00<00:00, 936.28it/s]\n",
      "100%|██████████| 50/50 [00:00<00:00, 984.64it/s]\n",
      "100%|██████████| 13/13 [00:00<00:00, 1079.83it/s]\n",
      "100%|██████████| 5/5 [00:00<00:00, 829.08it/s]\n"
     ]
    }
   ],
   "source": [
    "urls = [\n",
    "    \"https://www.pantio.vn/collections/ao-len/products.json\",\n",
    "    \"https://lamerfashion.com/collections/ao-len/products.json\",\n",
    "    \"https://nemshop.vn/collections/ao-len/products.json\",\n",
    "    \"https://johnhenry.vn/collections/ao-len-nu-freelancer/products.json\"\n",
    "]\n",
    "processProduct(urls, groups[\"ao\"]._id, categories[\"ao_len\"]._id)"
   ]
  },
  {
   "cell_type": "markdown",
   "metadata": {},
   "source": [
    "# Ao mangto"
   ]
  },
  {
   "cell_type": "code",
   "execution_count": 14,
   "metadata": {},
   "outputs": [
    {
     "name": "stderr",
     "output_type": "stream",
     "text": [
      "100%|██████████| 29/29 [00:00<00:00, 992.86it/s]\n",
      "100%|██████████| 34/34 [00:00<00:00, 1078.37it/s]\n"
     ]
    }
   ],
   "source": [
    "urls = [\n",
    "    \"https://www.pantio.vn/collections/ao-mang-to/products.json\",\n",
    "    \"https://nemshop.vn/collections/mang-to-1/products.json\",\n",
    "]\n",
    "processProduct(urls, groups[\"ao\"]._id, categories[\"ao_mangto\"]._id)"
   ]
  },
  {
   "cell_type": "markdown",
   "metadata": {},
   "source": [
    "# Ao so mi"
   ]
  },
  {
   "cell_type": "code",
   "execution_count": 15,
   "metadata": {},
   "outputs": [
    {
     "name": "stderr",
     "output_type": "stream",
     "text": [
      "100%|██████████| 50/50 [00:00<00:00, 961.11it/s]\n",
      "100%|██████████| 50/50 [00:00<00:00, 1097.22it/s]\n",
      "100%|██████████| 40/40 [00:00<00:00, 1059.35it/s]\n",
      "100%|██████████| 50/50 [00:00<00:00, 801.43it/s]\n"
     ]
    }
   ],
   "source": [
    "urls = [\n",
    "    \"https://www.pantio.vn/collections/ao-so-mi/products.json\",\n",
    "    \"https://evadeeva.com.vn/collections/ao-so-mi/products.json\",\n",
    "    \"https://format.com.vn/collections/ao-so-mi-nu/products.json\",\n",
    "    \"https://www.maisononline.vn/collections/ao-so-mi-nu-1/products.json\"\n",
    "]\n",
    "processProduct(urls, groups[\"ao\"]._id, categories[\"ao_so_mi\"]._id)"
   ]
  },
  {
   "cell_type": "markdown",
   "metadata": {},
   "source": [
    "# Ao thun"
   ]
  },
  {
   "cell_type": "code",
   "execution_count": 16,
   "metadata": {},
   "outputs": [
    {
     "name": "stderr",
     "output_type": "stream",
     "text": [
      "100%|██████████| 50/50 [00:00<00:00, 750.27it/s]\n",
      "100%|██████████| 50/50 [00:00<00:00, 890.36it/s]\n",
      "100%|██████████| 27/27 [00:00<00:00, 957.32it/s]\n",
      "100%|██████████| 38/38 [00:00<00:00, 937.37it/s]\n",
      "100%|██████████| 21/21 [00:00<00:00, 713.96it/s]\n"
     ]
    }
   ],
   "source": [
    "urls = [\n",
    "    \"https://ninomaxxconcept.com/collections/ao-thun-danh-cho-nu/products.json\",\n",
    "    \"https://www.maisononline.vn/collections/ao-thun-nu/products.json\",\n",
    "    \"https://gavani.vn/collections/ao-thun-nu/products.json\",\n",
    "    \"https://johnhenry.vn/collections/ao-thun-nu-freelancer/products.json\",\n",
    "    \"https://marc.com.vn/collections/ao-thun-nu/products.json\"\n",
    "]\n",
    "processProduct(urls, groups[\"ao\"]._id, categories[\"ao_thun\"]._id)"
   ]
  },
  {
   "cell_type": "markdown",
   "metadata": {},
   "source": [
    "# Ao tre vai"
   ]
  },
  {
   "cell_type": "code",
   "execution_count": 17,
   "metadata": {},
   "outputs": [
    {
     "name": "stderr",
     "output_type": "stream",
     "text": [
      "100%|██████████| 41/41 [00:00<00:00, 1025.56it/s]\n",
      "100%|██████████| 8/8 [00:00<00:00, 829.98it/s]\n"
     ]
    }
   ],
   "source": [
    "urls = [\n",
    "    \"https://cheapy.vn/collections/ao-tre-vai/products.json\",\n",
    "    \"https://www.maisononline.vn/collections/ao-tre-vai-nu/products.json\",\n",
    "]\n",
    "processProduct(urls, groups[\"ao\"]._id, categories[\"ao_tre_vai\"]._id)"
   ]
  },
  {
   "cell_type": "markdown",
   "metadata": {},
   "source": [
    "# Ao vest"
   ]
  },
  {
   "cell_type": "code",
   "execution_count": 18,
   "metadata": {},
   "outputs": [
    {
     "name": "stderr",
     "output_type": "stream",
     "text": [
      "100%|██████████| 41/41 [00:00<00:00, 832.03it/s]\n",
      "100%|██████████| 44/44 [00:00<00:00, 992.55it/s]\n",
      "100%|██████████| 44/44 [00:00<00:00, 871.21it/s]\n",
      "100%|██████████| 44/44 [00:00<00:00, 798.81it/s]\n"
     ]
    }
   ],
   "source": [
    "urls = [\n",
    "    \"https://www.pantio.vn/collections/ao-vest/products.json\",\n",
    "    \"https://nemshop.vn/collections/ao-vest/products.json\",\n",
    "    \"https://lamerfashion.com/collections/ao-vest/products.json\",\n",
    "    \"https://chicland.vn/collections/ao-vest/products.json\"\n",
    "]\n",
    "processProduct(urls, groups[\"ao\"]._id, categories[\"ao_vest\"]._id)"
   ]
  },
  {
   "cell_type": "markdown",
   "metadata": {},
   "source": [
    "# Do ngu do mac nha"
   ]
  },
  {
   "cell_type": "code",
   "execution_count": 19,
   "metadata": {},
   "outputs": [
    {
     "name": "stderr",
     "output_type": "stream",
     "text": [
      "100%|██████████| 50/50 [00:00<00:00, 900.95it/s]\n",
      "100%|██████████| 50/50 [00:00<00:00, 879.62it/s]\n",
      "100%|██████████| 50/50 [00:00<00:00, 831.66it/s]\n",
      "100%|██████████| 16/16 [00:00<00:00, 868.48it/s]\n"
     ]
    }
   ],
   "source": [
    "urls = [\n",
    "    \"https://wannabe.com.vn/collections/do-ngu-wannabe/products.json\",\n",
    "    \"https://sunfly.com.vn/collections/bo-mac-nha/products.json\",\n",
    "    \"https://cardina.vn/collections/do-bo-nu-mac-nha/products.json\",\n",
    "    \"https://www.pantio.vn/collections/do-ngu-do-mac-nha/products.json\"\n",
    "]\n",
    "processProduct(urls, groups[\"ao\"]._id, categories[\"do_ngu_do_mac_nha\"]._id)"
   ]
  },
  {
   "cell_type": "markdown",
   "metadata": {},
   "source": [
    "# Chan vay dai"
   ]
  },
  {
   "cell_type": "code",
   "execution_count": 20,
   "metadata": {},
   "outputs": [
    {
     "name": "stderr",
     "output_type": "stream",
     "text": [
      "100%|██████████| 50/50 [00:00<00:00, 1047.94it/s]\n"
     ]
    }
   ],
   "source": [
    "urls = [\n",
    "    \"https://www.pantio.vn/collections/chan-vay-dai/products.json\",\n",
    "]\n",
    "processProduct(urls, groups[\"chan_vay\"]._id, categories[\"chan_vay_dai\"]._id)"
   ]
  },
  {
   "cell_type": "markdown",
   "metadata": {},
   "source": [
    "# Chan vay ngan"
   ]
  },
  {
   "cell_type": "code",
   "execution_count": 21,
   "metadata": {},
   "outputs": [
    {
     "name": "stderr",
     "output_type": "stream",
     "text": [
      "100%|██████████| 50/50 [00:00<00:00, 853.76it/s]\n",
      "100%|██████████| 24/24 [00:00<00:00, 866.49it/s]\n"
     ]
    }
   ],
   "source": [
    "urls = [\n",
    "    \"https://www.pantio.vn/collections/chan-vay-ngan/products.json\",\n",
    "    \"https://somehow.vn/collections/chan-vay-ngan/products.json\"\n",
    "]\n",
    "processProduct(urls, groups[\"chan_vay\"]._id, categories[\"chan_vay_ngan\"]._id)"
   ]
  },
  {
   "cell_type": "markdown",
   "metadata": {},
   "source": [
    "# Dam maxi"
   ]
  },
  {
   "cell_type": "code",
   "execution_count": 22,
   "metadata": {},
   "outputs": [
    {
     "name": "stderr",
     "output_type": "stream",
     "text": [
      "100%|██████████| 50/50 [00:00<00:00, 911.68it/s]\n",
      "100%|██████████| 28/28 [00:00<00:00, 1034.68it/s]\n",
      "100%|██████████| 4/4 [00:00<00:00, 851.07it/s]\n"
     ]
    }
   ],
   "source": [
    "urls = [\n",
    "    \"https://lamerfashion.com/collections/dam-maxi/products.json\",\n",
    "    \"https://nemshop.vn/collections/dam-maxi/products.json\",\n",
    "    \"https://evadeeva.com.vn/collections/dam-maxi/products.json\",\n",
    "]\n",
    "processProduct(urls, groups[\"dam\"]._id, categories[\"dam_maxi\"]._id)"
   ]
  },
  {
   "cell_type": "markdown",
   "metadata": {},
   "source": [
    "# Dam om"
   ]
  },
  {
   "cell_type": "code",
   "execution_count": 23,
   "metadata": {},
   "outputs": [
    {
     "name": "stderr",
     "output_type": "stream",
     "text": [
      "100%|██████████| 22/22 [00:00<00:00, 1001.74it/s]\n",
      "100%|██████████| 24/24 [00:00<00:00, 862.46it/s]\n"
     ]
    }
   ],
   "source": [
    "urls = [\n",
    "    \"https://www.maisononline.vn/collections/dam-om-body/products.json\",\n",
    "    \"https://maybi.com/collections/dam-om/products.json\",\n",
    "]\n",
    "processProduct(urls, groups[\"dam\"]._id, categories[\"dam_om\"]._id)"
   ]
  },
  {
   "cell_type": "markdown",
   "metadata": {},
   "source": [
    "# Quan dai"
   ]
  },
  {
   "cell_type": "code",
   "execution_count": 24,
   "metadata": {},
   "outputs": [
    {
     "name": "stderr",
     "output_type": "stream",
     "text": [
      "100%|██████████| 50/50 [00:00<00:00, 944.22it/s]\n",
      "100%|██████████| 4/4 [00:00<00:00, 667.59it/s]\n",
      "100%|██████████| 50/50 [00:00<00:00, 971.55it/s]\n",
      "100%|██████████| 37/37 [00:00<00:00, 1063.38it/s]\n"
     ]
    }
   ],
   "source": [
    "urls = [\n",
    "    \"https://www.pantio.vn/collections/quan-dai/products.json\",\n",
    "    \"https://coupletx.com/collections/quan-dai-nu/products.json\",\n",
    "    \"https://ninomaxxconcept.com/collections/quan-dai-danh-cho-nu/products.json\",\n",
    "    \"https://salehub.com.vn/collections/quan-dai-nu/products.json\",\n",
    "]\n",
    "processProduct(urls, groups[\"quan\"]._id, categories[\"quan_dai\"]._id)"
   ]
  },
  {
   "cell_type": "markdown",
   "metadata": {},
   "source": [
    "# Quan jean"
   ]
  },
  {
   "cell_type": "code",
   "execution_count": 25,
   "metadata": {},
   "outputs": [
    {
     "name": "stderr",
     "output_type": "stream",
     "text": [
      "100%|██████████| 24/24 [00:00<00:00, 849.34it/s]\n",
      "100%|██████████| 50/50 [00:00<00:00, 835.34it/s]\n",
      "100%|██████████| 25/25 [00:00<00:00, 973.98it/s]\n",
      "100%|██████████| 37/37 [00:00<00:00, 972.79it/s]\n"
     ]
    }
   ],
   "source": [
    "urls = [\n",
    "    \"https://www.pantio.vn/collections/quan-bo/products.json\",\n",
    "    \"https://genviet.com/collections/quan-dai-nu-jeans/products.json\",\n",
    "    \"https://johnhenry.vn/collections/quan-jeans-nu-freelancer/products.json\",\n",
    "    \"https://salehub.com.vn/collections/quan-dai-nu/products.json\",\n",
    "]\n",
    "processProduct(urls, groups[\"quan\"]._id, categories[\"quan_jean\"]._id)"
   ]
  },
  {
   "cell_type": "markdown",
   "metadata": {},
   "source": [
    "# Quan short"
   ]
  },
  {
   "cell_type": "code",
   "execution_count": 26,
   "metadata": {},
   "outputs": [
    {
     "name": "stderr",
     "output_type": "stream",
     "text": [
      "100%|██████████| 50/50 [00:00<00:00, 910.13it/s]\n",
      "100%|██████████| 39/39 [00:00<00:00, 843.44it/s]\n",
      "100%|██████████| 17/17 [00:00<00:00, 783.29it/s]\n",
      "100%|██████████| 17/17 [00:00<00:00, 630.48it/s]\n",
      "100%|██████████| 10/10 [00:00<00:00, 848.91it/s]\n"
     ]
    }
   ],
   "source": [
    "urls = [\n",
    "    \"https://www.pantio.vn/collections/quan-short/products.json\",\n",
    "    \"https://ninomaxxconcept.com/collections/quan-short-danh-cho-nu/products.json\",\n",
    "    \"https://genviet.com/collections/quan-short-nu/products.json\",\n",
    "    \"https://winmaxx.com.vn/collections/quan-short-nu/products.json\",\n",
    "    \"https://livansport.com/collections/quan-short-nu/products.json\",\n",
    "]\n",
    "processProduct(urls, groups[\"quan\"]._id, categories[\"quan_short\"]._id)"
   ]
  }
 ],
 "metadata": {
  "kernelspec": {
   "display_name": "law",
   "language": "python",
   "name": "python3"
  },
  "language_info": {
   "codemirror_mode": {
    "name": "ipython",
    "version": 3
   },
   "file_extension": ".py",
   "mimetype": "text/x-python",
   "name": "python",
   "nbconvert_exporter": "python",
   "pygments_lexer": "ipython3",
   "version": "3.10.14"
  }
 },
 "nbformat": 4,
 "nbformat_minor": 2
}
